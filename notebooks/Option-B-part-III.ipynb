{
 "cells": [
  {
   "cell_type": "markdown",
   "id": "60588f4e-1688-492b-952f-4e24c07b9bc3",
   "metadata": {},
   "source": [
    "# Part 3: Policy Insights"
   ]
  },
  {
   "cell_type": "code",
   "execution_count": 1,
   "id": "e53e7c23-3f73-420d-8f5a-6f104d3fb20c",
   "metadata": {},
   "outputs": [],
   "source": [
    "import pandas as pd\n",
    "import numpy as np"
   ]
  },
  {
   "cell_type": "code",
   "execution_count": 2,
   "id": "8afc14d5-583f-4695-9c90-3546a7e6e50c",
   "metadata": {},
   "outputs": [],
   "source": [
    "df = pd.read_csv(\"../data/eu_sdg_performance_data.csv\")\n",
    "\n",
    "tier_labels = {0: \"Needs Improvement\", 1: \"Good Performers\", 2: \"Leaders\"}\n",
    "df[\"tier_label\"] = df[\"performance_tier\"].map(tier_labels)\n",
    "\n",
    "# Identify feature columns\n",
    "drop_cols = {\"Country\", \"year\", \"performance_tier\", \"sdgi_score\", \"tier_label\"}\n",
    "feature_cols = [c for c in df.columns if c not in drop_cols]"
   ]
  },
  {
   "cell_type": "code",
   "execution_count": 3,
   "id": "729ca94f-7a98-4d63-9596-5b128189b90a",
   "metadata": {},
   "outputs": [
    {
     "name": "stdout",
     "output_type": "stream",
     "text": [
      "=== Top-3 Improvement Areas (Needs Improvement → Good Performers) ===\n",
      "sdg8_income     6388.0\n",
      "sdg9_digital      21.0\n",
      "sdg16_cpi         20.0\n",
      "dtype: float64\n",
      "\n",
      "=== Top-3 Improvement Areas (Good Performers → Leaders) ===\n",
      "sdg8_income     5146.0\n",
      "sdg7_eurenew      25.5\n",
      "sdg16_cpi         23.0\n",
      "dtype: float64\n"
     ]
    }
   ],
   "source": [
    "# Median values per tier\n",
    "medians_by_tier = df.groupby(\"tier_label\")[feature_cols].median()\n",
    "\n",
    "# Compute gaps between tiers\n",
    "gap_NI_to_GP = (\n",
    "    medians_by_tier.loc[\"Good Performers\"] - \n",
    "    medians_by_tier.loc[\"Needs Improvement\"]\n",
    ").sort_values(ascending=False)\n",
    "\n",
    "gap_GP_to_L = (\n",
    "    medians_by_tier.loc[\"Leaders\"] - \n",
    "    medians_by_tier.loc[\"Good Performers\"]\n",
    ").sort_values(ascending=False)\n",
    "\n",
    "# Top-3 improvement areas\n",
    "print(\"=== Top-3 Improvement Areas (Needs Improvement → Good Performers) ===\")\n",
    "print(gap_NI_to_GP.head(3))\n",
    "\n",
    "print(\"\\n=== Top-3 Improvement Areas (Good Performers → Leaders) ===\")\n",
    "print(gap_GP_to_L.head(3))"
   ]
  },
  {
   "cell_type": "code",
   "execution_count": 4,
   "id": "44617a48-e735-46ea-a049-de515937a9f9",
   "metadata": {},
   "outputs": [],
   "source": [
    "# Compute Leaders’ thresholds (25th percentile) for targets\n",
    "leaders_mask = df[\"performance_tier\"] == 2\n",
    "leaders_thresholds = df.loc[leaders_mask, feature_cols].quantile(0.25)\n",
    "\n",
    "# Function to compute top-3 gaps for a country-year\n",
    "def top_gaps_for_row(row, features, thresholds):\n",
    "    diffs = {}\n",
    "    for f in features:\n",
    "        val = row.get(f, np.nan)\n",
    "        thr = thresholds[f]\n",
    "        diffs[f] = thr - val  # positive => below Leaders' threshold\n",
    "    sr = pd.Series(diffs).sort_values(ascending=False)\n",
    "    top3 = sr.head(3)\n",
    "    return top3.index.tolist(), top3.values.tolist()\n",
    "\n",
    "# Apply to underperformers (Needs Improvement countries)\n",
    "ni_rows = df[df[\"performance_tier\"] == 0].copy()\n",
    "records = []\n",
    "\n",
    "for _, row in ni_rows.iterrows():\n",
    "    keys, vals = top_gaps_for_row(row, feature_cols, leaders_thresholds)\n",
    "    records.append({\n",
    "        \"country\": row.get(\"country\", row.get(\"Country\", \"Unknown\")),\n",
    "        \"year\": int(row.get(\"year\", row.get(\"Year\", -1))),\n",
    "        \"top_gap_1\": keys[0], \"gap_value_1\": vals[0],\n",
    "        \"top_gap_2\": keys[1], \"gap_value_2\": vals[1],\n",
    "        \"top_gap_3\": keys[2], \"gap_value_3\": vals[2],\n",
    "    })\n",
    "\n",
    "ni_gaps_df = pd.DataFrame(records)\n",
    "\n",
    "# Save outputs\n",
    "ni_gaps_df.to_csv(\"needs_improvement.csv\", index=False)"
   ]
  },
  {
   "cell_type": "code",
   "execution_count": null,
   "id": "31a716e9-28a0-4d71-93eb-6f9db019beee",
   "metadata": {},
   "outputs": [],
   "source": []
  }
 ],
 "metadata": {
  "kernelspec": {
   "display_name": "Python 3 (ipykernel)",
   "language": "python",
   "name": "python3"
  },
  "language_info": {
   "codemirror_mode": {
    "name": "ipython",
    "version": 3
   },
   "file_extension": ".py",
   "mimetype": "text/x-python",
   "name": "python",
   "nbconvert_exporter": "python",
   "pygments_lexer": "ipython3",
   "version": "3.13.5"
  }
 },
 "nbformat": 4,
 "nbformat_minor": 5
}
